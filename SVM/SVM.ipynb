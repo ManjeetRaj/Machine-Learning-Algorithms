{
 "cells": [
  {
   "cell_type": "code",
   "execution_count": 1,
   "metadata": {},
   "outputs": [],
   "source": [
    "from IPython.core.interactiveshell import InteractiveShell\n",
    "InteractiveShell.ast_node_intractivity = \"all\"\n",
    "%matplotlib inline"
   ]
  },
  {
   "cell_type": "code",
   "execution_count": 2,
   "metadata": {},
   "outputs": [],
   "source": [
    "import numpy as np\n",
    "import matplotlib.pyplot as plt\n",
    "import math"
   ]
  },
  {
   "cell_type": "code",
   "execution_count": 3,
   "metadata": {
    "scrolled": true
   },
   "outputs": [
    {
     "data": {
      "image/png": "[encoded data removed]",
      "text/plain": [
       "<Figure size 432x288 with 1 Axes>"
      ]
     },
     "metadata": {
      "needs_background": "light"
     },
     "output_type": "display_data"
    }
   ],
   "source": [
    "from sklearn.datasets.samples_generator import make_blobs\n",
    "(X,y) = make_blobs(n_samples=50,n_features=2,centers=2,cluster_std=1.05,random_state=40)\n",
    "#np.ones((X.shape[0]))\n",
    "\n",
    "#we need to add 1 to X values (we can say its bias)\n",
    "\n",
    "X1 = np.c_[np.ones((X.shape[0])),X]\n",
    "X1.shape\n",
    "\n",
    "plt.scatter(X1[:,1],X1[:,2],marker='o',c=y)\n",
    "plt.axis([-5,10,-12,-1])\n",
    "plt.show()"
   ]
  },
  {
   "cell_type": "code",
   "execution_count": 4,
   "metadata": {},
   "outputs": [
    {
     "data": {
      "text/plain": [
       "array([1, 1, 0, 1, 0, 0, 1, 0, 1, 0, 1, 1, 0, 1, 1, 1, 1, 1, 1, 1, 0, 0,\n",
       "       0, 0, 0, 0, 0, 0, 0, 0, 1, 1, 0, 0, 1, 0, 1, 0, 1, 1, 0, 0, 1, 1,\n",
       "       1, 0, 0, 1, 1, 0])"
      ]
     },
     "execution_count": 4,
     "metadata": {},
     "output_type": "execute_result"
    }
   ],
   "source": [
    "y"
   ]
  },
  {
   "cell_type": "code",
   "execution_count": 5,
   "metadata": {
    "scrolled": true
   },
   "outputs": [
    {
     "data": {
      "text/plain": [
       "array([[  1.        ,   7.12731332,  -4.4394424 ],\n",
       "       [  1.        ,   6.68873898,  -2.44840134],\n",
       "       [  1.        ,  -1.1004791 ,  -7.78436803],\n",
       "       [  1.        ,   3.99337867,  -4.90451269],\n",
       "       [  1.        ,  -1.8171622 ,  -9.22909875],\n",
       "       [  1.        ,  -2.05521901, -10.23141199],\n",
       "       [  1.        ,   4.20397723,  -3.61164749],\n",
       "       [  1.        ,  -0.21804625,  -9.21962706],\n",
       "       [  1.        ,   5.19327641,  -6.38845134],\n",
       "       [  1.        ,  -1.83682056,  -8.21952131],\n",
       "       [  1.        ,   7.54287406,  -5.35284052],\n",
       "       [  1.        ,   4.88954545,  -3.38947816],\n",
       "       [  1.        ,  -1.76558632,  -9.34943001],\n",
       "       [  1.        ,   5.22597752,  -5.5503347 ],\n",
       "       [  1.        ,   6.64886376,  -4.46203664],\n",
       "       [  1.        ,   8.09408178,  -4.8068287 ],\n",
       "       [  1.        ,   6.32916529,  -5.32177094],\n",
       "       [  1.        ,   5.80670214,  -5.14475233],\n",
       "       [  1.        ,   5.67381136,  -3.33963413],\n",
       "       [  1.        ,   7.20870152,  -6.04176429],\n",
       "       [  1.        ,  -3.25014567,  -8.67304842],\n",
       "       [  1.        ,  -1.22856371,  -7.96317275],\n",
       "       [  1.        ,  -3.29446134,  -7.45269997],\n",
       "       [  1.        ,  -1.81294631,  -7.55640734],\n",
       "       [  1.        ,  -1.53809058,  -8.77828137],\n",
       "       [  1.        ,  -3.78288052,  -9.38303174],\n",
       "       [  1.        ,  -2.73473836,  -9.34777956],\n",
       "       [  1.        ,   0.56085542,  -8.37942864],\n",
       "       [  1.        ,  -0.74123127,  -7.87270877],\n",
       "       [  1.        ,  -1.78948268,  -8.62182811],\n",
       "       [  1.        ,   6.50753753,  -3.62561777],\n",
       "       [  1.        ,   4.60302933,  -4.27563422],\n",
       "       [  1.        ,  -1.26561532,  -8.61262708],\n",
       "       [  1.        ,  -0.72123914,  -8.45607028],\n",
       "       [  1.        ,   3.83024448,  -4.07271978],\n",
       "       [  1.        ,  -3.34179681,  -9.47382989],\n",
       "       [  1.        ,   6.05297048,  -6.08234237],\n",
       "       [  1.        ,  -2.91411681,  -9.03305688],\n",
       "       [  1.        ,   3.86649969,  -4.04019832],\n",
       "       [  1.        ,   6.44492377,  -4.43550613],\n",
       "       [  1.        ,  -1.81467949, -10.05599013],\n",
       "       [  1.        ,  -1.76772086,  -9.42358002],\n",
       "       [  1.        ,   2.74565323,  -4.27040575],\n",
       "       [  1.        ,   5.23730283,  -4.11095128],\n",
       "       [  1.        ,   6.34072331,  -4.34259999],\n",
       "       [  1.        ,  -2.30635421,  -8.37456353],\n",
       "       [  1.        ,  -3.09442079,  -9.2409609 ],\n",
       "       [  1.        ,   6.59620916,  -4.32893984],\n",
       "       [  1.        ,   7.24901124,  -3.58913263],\n",
       "       [  1.        ,  -2.03285195,  -8.16158771]])"
      ]
     },
     "execution_count": 5,
     "metadata": {},
     "output_type": "execute_result"
    }
   ],
   "source": [
    "X1"
   ]
  },
  {
   "cell_type": "code",
   "execution_count": 6,
   "metadata": {},
   "outputs": [],
   "source": [
    "postiveX = []\n",
    "negativeX = []\n",
    "# for i,v in enumerate(y):\n",
    "#     if v == 0:\n",
    "#         negativeX.append(X[i])\n",
    "#     else:\n",
    "#         postiveX.append(X[i])\n",
    "\n",
    "for i in range(len(y)):\n",
    "    if y[i] == 0:\n",
    "        negativeX.append(X[i])\n",
    "    else:\n",
    "        postiveX.append(X[i])\n",
    "        \n",
    "#our data dictionary\n",
    "data_dict = {-1:np.array(negativeX), 1:np.array(postiveX)}\n",
    "# data_dict"
   ]
  },
  {
   "cell_type": "code",
   "execution_count": 9,
   "metadata": {},
   "outputs": [
    {
     "data": {
      "text/plain": [
       "-10.231411985451054"
      ]
     },
     "execution_count": 9,
     "metadata": {},
     "output_type": "execute_result"
    }
   ],
   "source": [
    "#all the required variables\n",
    "\n",
    "w = [] #weights 2 dimentional vector\n",
    "b = [] #bais\n",
    "\n",
    "max_feature_value = float('-inf')\n",
    "min_feature_value = float('+inf')\n",
    "\n",
    "for yi in data_dict:\n",
    "    if np.amax(data_dict[yi])>max_feature_value:\n",
    "        max_feature_value=np.amax(data_dict[yi])\n",
    "        \n",
    "    if np.amin(data_dict[yi])<min_feature_value:\n",
    "        min_feature_value=np.amin(data_dict[yi])   \n",
    "max_feature_value\n",
    "min_feature_value"
   ]
  },
  {
   "cell_type": "code",
   "execution_count": null,
   "metadata": {},
   "outputs": [],
   "source": []
  },
  {
   "cell_type": "code",
   "execution_count": null,
   "metadata": {},
   "outputs": [],
   "source": []
  },
  {
   "cell_type": "code",
   "execution_count": null,
   "metadata": {},
   "outputs": [],
   "source": []
  },
  {
   "cell_type": "code",
   "execution_count": null,
   "metadata": {},
   "outputs": [],
   "source": []
  }
 ],
 "metadata": {
  "kernelspec": {
   "display_name": "Python 3",
   "language": "python",
   "name": "python3"
  },
  "language_info": {
   "codemirror_mode": {
    "name": "ipython",
    "version": 3
   },
   "file_extension": ".py",
   "mimetype": "text/x-python",
   "name": "python",
   "nbconvert_exporter": "python",
   "pygments_lexer": "ipython3",
   "version": "3.6.6"
  }
 },
 "nbformat": 4,
 "nbformat_minor": 2
}
